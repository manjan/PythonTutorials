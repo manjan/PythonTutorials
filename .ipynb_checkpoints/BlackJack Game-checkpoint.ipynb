{
 "cells": [
  {
   "cell_type": "code",
   "execution_count": 21,
   "metadata": {
    "collapsed": true
   },
   "outputs": [],
   "source": [
    "#for Card Shuffling\n",
    "import random\n",
    "\n",
    "#Boolean used to check if hand is in play\n",
    "playing = False\n",
    "\n",
    "chip_pool = 100\n",
    "\n",
    "bet = 1\n",
    "\n",
    "restart_phrase = \"Press 'd' to deal again or 'q' to quit\""
   ]
  },
  {
   "cell_type": "code",
   "execution_count": 23,
   "metadata": {
    "collapsed": false
   },
   "outputs": [],
   "source": [
    "#Hearts, Diamonds, Clubs, Spades\n",
    "suits = ('H','D','C','S')\n",
    "\n",
    "#Card Ranks\n",
    "ranking = ('A','2','3','4','5','6','7','8','9','10','J','Q','K')\n",
    "\n",
    "#Point for each card\n",
    "card_val = {'A':1,'2':2,'3':3,'4':4,'5':5,'6':6,'7':7,'8':8,'9':9,'10':10,'J':10,'Q':10,'K':10}"
   ]
  },
  {
   "cell_type": "code",
   "execution_count": 24,
   "metadata": {
    "collapsed": true
   },
   "outputs": [],
   "source": [
    "#Class for the Card\n",
    "class Card:\n",
    "    \n",
    "    def __init__(self,suit,rank):\n",
    "        self.suit = suit\n",
    "        self.rank = rank\n",
    "        \n",
    "    def __str__(self):\n",
    "        return self.suit + self.rank\n",
    "    \n",
    "    def grab_suit(self):\n",
    "        return self.suit\n",
    "    \n",
    "    def grag_rank(self):\n",
    "        return self.rank\n",
    "    \n",
    "    def draw(self):\n",
    "        print (self.suit + self.rank)"
   ]
  },
  {
   "cell_type": "code",
   "execution_count": 25,
   "metadata": {
    "collapsed": false
   },
   "outputs": [],
   "source": [
    "#Hand Class\n",
    "class Hand:\n",
    "    \n",
    "    def __init__(self):\n",
    "        self.cards = []\n",
    "        self.value = 0\n",
    "        #Ace can be 1 or 11. Keep track of it\n",
    "        self.ace = False\n",
    "        \n",
    "    def __str__(self):\n",
    "        #Cards in hand\n",
    "        hand_comp = \"\"\n",
    "        for card in self.cards:\n",
    "            card_name = card.__str__()\n",
    "            hand_comp += \" \" + card_name\n",
    "        return \"The hand has %s\" %hand_comp\n",
    "    \n",
    "    def card_add(self,card):\n",
    "        #Add card to hand\n",
    "        self.cards.append(card)\n",
    "        if card.rank == 'A':\n",
    "            self.ace = True\n",
    "        self.value += card_val[card.rank]\n",
    "        \n",
    "    def calc_val(self):\n",
    "        #Value in hand. Make aces an 11 if they don't get busted\n",
    "        if self.ace == True and self.value < 12:\n",
    "            return self.value + 10\n",
    "        else:\n",
    "            return self.value\n",
    "        \n",
    "    def draw(self, hidden):\n",
    "        if hidden == True and playing == True:\n",
    "            #Don't show if hidden\n",
    "            starting_card = 1\n",
    "        else:\n",
    "            starting_card = 0\n",
    "        \n",
    "        for x in range(starting_card, len(self.cards)):\n",
    "            self.cards[x].draw()"
   ]
  },
  {
   "cell_type": "code",
   "execution_count": 26,
   "metadata": {
    "collapsed": true
   },
   "outputs": [],
   "source": [
    "#Make Deck Class\n",
    "class Deck:\n",
    "    \n",
    "    def __init__(self):\n",
    "        #Create Deck\n",
    "        self.deck = []\n",
    "        for suit in suits:\n",
    "            for rank in ranking:\n",
    "                self.deck.append(Card(suit,rank))\n",
    "    \n",
    "    def shuffle(self):\n",
    "        #Shuffle deck. using random method\n",
    "        random.shuffle(self.deck)\n",
    "        \n",
    "    def deal(self):\n",
    "        #Grab the first item in the deck\n",
    "        single_card = self.deck.pop()\n",
    "        return single_card\n",
    "    \n",
    "    def __str__(self):\n",
    "        deck_comp = \"\"\n",
    "        for card in self.cards:\n",
    "            deck_comp += \" \"  + card.__str__()\n",
    "        \n",
    "        return \"The deck has \" + deck_comp"
   ]
  },
  {
   "cell_type": "code",
   "execution_count": 27,
   "metadata": {
    "collapsed": false
   },
   "outputs": [],
   "source": [
    "#Bet\n",
    "def make_bet():\n",
    "    #Let's ask player for the bet amount\n",
    "    global bet\n",
    "    bet = 0\n",
    "    \n",
    "    print \"What amount of chip would you like to bet? Integer Please: \"\n",
    "    while bet == 0:\n",
    "        bet_comp = int(raw_input())\n",
    "        if bet_comp >=1 and bet_comp <= chip_pool:\n",
    "            bet = bet_comp\n",
    "        else:\n",
    "            print \"Invalid bet, you only have \"  + str(chip_pool) + \" remaining\""
   ]
  },
  {
   "cell_type": "code",
   "execution_count": 28,
   "metadata": {
    "collapsed": true
   },
   "outputs": [],
   "source": [
    "#Deal Cards\n",
    "def deal_cards():\n",
    "    global result, playing, deck, player_hand,dealer_hand,chip_pool,bet\n",
    "    \n",
    "    deck = Deck()\n",
    "    deck.shuffle()\n",
    "    make_bet()\n",
    "    \n",
    "    #Setup both player and dealer hands\n",
    "    player_hand = Hand()\n",
    "    dealer_hand = Hand()\n",
    "    \n",
    "    player_hand.card_add(deck.deal())\n",
    "    player_hand.card_add(deck.deal())\n",
    "    \n",
    "    dealer_hand.card_add(deck.deal())\n",
    "    dealer_hand.card_add(deck.deal())\n",
    "    \n",
    "    result = \"Hit or Stand? Press either h or s\"\n",
    "    \n",
    "    if playing == True:\n",
    "        print 'Fold, Sorry'\n",
    "        chip_pool -= bet\n",
    "        \n",
    "    playing = True\n",
    "    game_step()"
   ]
  },
  {
   "cell_type": "code",
   "execution_count": 29,
   "metadata": {
    "collapsed": true
   },
   "outputs": [],
   "source": [
    "#Hit Function\n",
    "def hit():\n",
    "    global result, playing, deck, player_hand,dealer_hand,chip_pool,bet\n",
    "    \n",
    "    if playing:\n",
    "        if player_hand.calc_val() <=21:\n",
    "            player_hand.card_add(deck.deal())\n",
    "        \n",
    "        print \"Player hand is %s\" %player_hand\n",
    "        \n",
    "        if player_hand.calc_val() > 21:\n",
    "            result = 'Busted! ' + restart_phrase\n",
    "            chip_pool -= bet\n",
    "            playing = False\n",
    "    else:\n",
    "        result = \" sorry, can't hit \"  + restart_phrase\n",
    "        \n",
    "    game_step()"
   ]
  },
  {
   "cell_type": "code",
   "execution_count": 36,
   "metadata": {
    "collapsed": true
   },
   "outputs": [],
   "source": [
    "#Stand Function\n",
    "def stand():\n",
    "    global result, playing, deck, player_hand,dealer_hand,chip_pool,bet\n",
    "    \n",
    "    if playing == False:\n",
    "        if player_hand.calc_val() > 0:\n",
    "            result = \"Sorry, you can't stand\"\n",
    "    else:\n",
    "        #soft 17 rule\n",
    "        while dealer_hand.calc_val() < 17:\n",
    "            dealer_hand.card_add(deck.deal())\n",
    "            \n",
    "        if dealer_hand.calc_val() > 21:\n",
    "            result = 'Dealer busts! you win ' + restart_phrase\n",
    "            chip_pool += bet\n",
    "            playing = False\n",
    "        elif dealer_hand.calc_val() < player_hand.calc_val():\n",
    "            result = \"you bet the dealer, you win \"  +restart_phrase\n",
    "            chip_pool += bet\n",
    "            playing = False\n",
    "        elif dealer_hand.calc_val() == player_hand.calc_val():\n",
    "            result = 'Tied up, push!'  + result_phras\n",
    "        else:\n",
    "            result = \"Dealer Wins! \" + restart_phrase\n",
    "            chip_pool -= bet\n",
    "            playing = False\n",
    "    game_step()"
   ]
  },
  {
   "cell_type": "code",
   "execution_count": 31,
   "metadata": {
    "collapsed": true
   },
   "outputs": [],
   "source": [
    "def game_step():\n",
    "    'Function to print game step/status on output'\n",
    "    \n",
    "    #Display Player Hand\n",
    "    print \"\"\n",
    "    print('Player Hand is: '),\n",
    "    player_hand.draw(hidden =False)\n",
    "    \n",
    "    print 'Player hand total is: '+str(player_hand.calc_val())\n",
    "    \n",
    "    #Display Dealer Hand\n",
    "    print('Dealer Hand is: '),\n",
    "    dealer_hand.draw(hidden=True)\n",
    "    \n",
    "    # If game round is over\n",
    "    if playing == False:\n",
    "        print  \" --- for a total of \" + str(dealer_hand.calc_val() )\n",
    "        print \"Chip Total: \" + str(chip_pool)\n",
    "    # Otherwise, don't know the second card yet\n",
    "    else: \n",
    "        print \" with another card hidden upside down\"\n",
    "    \n",
    "    # Print result of hit or stand.\n",
    "    print result\n",
    "    \n",
    "    player_input()\n",
    "    "
   ]
  },
  {
   "cell_type": "code",
   "execution_count": 32,
   "metadata": {
    "collapsed": true
   },
   "outputs": [],
   "source": [
    "def game_exit():\n",
    "    print 'Thanks for playing!'\n",
    "    exit()"
   ]
  },
  {
   "cell_type": "code",
   "execution_count": 33,
   "metadata": {
    "collapsed": true
   },
   "outputs": [],
   "source": [
    "def player_input():\n",
    "    ''' Read user input, lower case it just to be safe'''\n",
    "    plin = raw_input().lower()\n",
    "    \n",
    "    \n",
    "    if plin == 'h':\n",
    "        hit()\n",
    "    elif plin == 's':\n",
    "        stand()\n",
    "    elif plin == 'd':\n",
    "        deal_cards()\n",
    "    elif plin == 'q':\n",
    "        game_exit()\n",
    "    else:\n",
    "        print \"Invalid Input...Enter h, s, d, or q: \"\n",
    "        player_input()"
   ]
  },
  {
   "cell_type": "code",
   "execution_count": 34,
   "metadata": {
    "collapsed": true
   },
   "outputs": [],
   "source": [
    "def intro():\n",
    "    statement = '''Welcome to BlackJack! Get as close to 21 as you can without going over!\n",
    "    Dealer hits until she reaches 17. Aces count as 1 or 11.\n",
    "    Card output goes a letter followed by a number of face notation'''\n",
    "    print statement\n",
    "    "
   ]
  },
  {
   "cell_type": "code",
   "execution_count": 37,
   "metadata": {
    "collapsed": false
   },
   "outputs": [
    {
     "name": "stdout",
     "output_type": "stream",
     "text": [
      "Welcome to BlackJack! Get as close to 21 as you can without going over!\n",
      "    Dealer hits until she reaches 17. Aces count as 1 or 11.\n",
      "    Card output goes a letter followed by a number of face notation\n",
      "What amount of chip would you like to bet? Integer Please: \n",
      "5\n",
      "Fold, Sorry\n",
      "\n",
      "Player Hand is:  C3\n",
      "C7\n",
      "Player hand total is: 10\n",
      "Dealer Hand is:  H10\n",
      " with another card hidden upside down\n",
      "Hit or Stand? Press either h or s\n",
      "h\n",
      "Player hand is The hand has  C3 C7 HK\n",
      "\n",
      "Player Hand is:  C3\n",
      "C7\n",
      "HK\n",
      "Player hand total is: 20\n",
      "Dealer Hand is:  H10\n",
      " with another card hidden upside down\n",
      "Hit or Stand? Press either h or s\n",
      "s\n",
      "\n",
      "Player Hand is:  C3\n",
      "C7\n",
      "HK\n",
      "Player hand total is: 20\n",
      "Dealer Hand is:  H7\n",
      "H10\n",
      " --- for a total of 17\n",
      "Chip Total: 100\n",
      "you bet the dealer, you win Press 'd' to deal again or 'q' to quit\n",
      "q\n",
      "Thanks for playing!\n"
     ]
    }
   ],
   "source": [
    "'''The following code will initiate the game! (Note: Need to Run all Cells)'''\n",
    "\n",
    "# Create a Deck\n",
    "deck = Deck()\n",
    "#Shuffle it\n",
    "deck.shuffle()\n",
    "# Create player and dealer hands\n",
    "player_hand = Hand()\n",
    "dealer_hand = Hand()\n",
    "#Print the intro\n",
    "intro()\n",
    "# Deal out the cards and start the game!\n",
    "deal_cards()"
   ]
  },
  {
   "cell_type": "code",
   "execution_count": null,
   "metadata": {
    "collapsed": true
   },
   "outputs": [],
   "source": []
  }
 ],
 "metadata": {
  "kernelspec": {
   "display_name": "Python 2",
   "language": "python",
   "name": "python2"
  },
  "language_info": {
   "codemirror_mode": {
    "name": "ipython",
    "version": 2
   },
   "file_extension": ".py",
   "mimetype": "text/x-python",
   "name": "python",
   "nbconvert_exporter": "python",
   "pygments_lexer": "ipython2",
   "version": "2.7.11"
  }
 },
 "nbformat": 4,
 "nbformat_minor": 0
}
